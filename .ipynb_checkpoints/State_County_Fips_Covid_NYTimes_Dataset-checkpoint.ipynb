{
 "cells": [
  {
   "cell_type": "code",
   "execution_count": 1,
   "metadata": {},
   "outputs": [],
   "source": [
    "import pandas as pd"
   ]
  },
  {
   "cell_type": "code",
   "execution_count": 2,
   "metadata": {},
   "outputs": [
    {
     "name": "stdout",
     "output_type": "stream",
     "text": [
      "         date       state  fips  cases  deaths\n",
      "0  2020-01-21  Washington    53      1       0\n",
      "1  2020-01-22  Washington    53      1       0\n",
      "2  2020-01-23  Washington    53      1       0\n",
      "3  2020-01-24    Illinois    17      1       0\n",
      "4  2020-01-24  Washington    53      1       0\n"
     ]
    }
   ],
   "source": [
    "# State Data with fips state data for geolocation\n",
    "State_url = 'https://raw.githubusercontent.com/nytimes/covid-19-data/master/us-states.csv'\n",
    "S_df = pd.read_csv(State_url)\n",
    "print(S_df.head(5))"
   ]
  },
  {
   "cell_type": "code",
   "execution_count": 3,
   "metadata": {},
   "outputs": [
    {
     "name": "stdout",
     "output_type": "stream",
     "text": [
      "         date     county       state     fips  cases  deaths\n",
      "0  2020-01-21  Snohomish  Washington  53061.0      1       0\n",
      "1  2020-01-22  Snohomish  Washington  53061.0      1       0\n",
      "2  2020-01-23  Snohomish  Washington  53061.0      1       0\n",
      "3  2020-01-24       Cook    Illinois  17031.0      1       0\n",
      "4  2020-01-24  Snohomish  Washington  53061.0      1       0\n"
     ]
    }
   ],
   "source": [
    "# County Data with fips county data for geolocation\n",
    "County_url = 'https://raw.githubusercontent.com/nytimes/covid-19-data/master/us-counties.csv'\n",
    "C_df = pd.read_csv(County_url)\n",
    "print(C_df.head(5))"
   ]
  },
  {
   "cell_type": "code",
   "execution_count": 4,
   "metadata": {},
   "outputs": [
    {
     "name": "stdout",
     "output_type": "stream",
     "text": [
      "            date          state  fips  cases  deaths\n",
      "0     2020-01-21     Washington    53      1       0\n",
      "1     2020-01-22     Washington    53      1       0\n",
      "2     2020-01-23     Washington    53      1       0\n",
      "3     2020-01-24       Illinois    17      1       0\n",
      "4     2020-01-24     Washington    53      1       0\n",
      "...          ...            ...   ...    ...     ...\n",
      "2156  2020-04-10       Virginia    51   4509     121\n",
      "2157  2020-04-10     Washington    53   9887     483\n",
      "2158  2020-04-10  West Virginia    54    537       5\n",
      "2159  2020-04-10      Wisconsin    55   3068     131\n",
      "2160  2020-04-10        Wyoming    56    253       0\n",
      "\n",
      "[2161 rows x 5 columns]\n",
      "             date      county       state     fips  cases  deaths\n",
      "0      2020-01-21   Snohomish  Washington  53061.0      1       0\n",
      "1      2020-01-22   Snohomish  Washington  53061.0      1       0\n",
      "2      2020-01-23   Snohomish  Washington  53061.0      1       0\n",
      "3      2020-01-24        Cook    Illinois  17031.0      1       0\n",
      "4      2020-01-24   Snohomish  Washington  53061.0      1       0\n",
      "...           ...         ...         ...      ...    ...     ...\n",
      "48504  2020-04-10    Sublette     Wyoming  56035.0      1       0\n",
      "48505  2020-04-10  Sweetwater     Wyoming  56037.0      6       0\n",
      "48506  2020-04-10       Teton     Wyoming  56039.0     50       0\n",
      "48507  2020-04-10       Uinta     Wyoming  56041.0      4       0\n",
      "48508  2020-04-10    Washakie     Wyoming  56043.0      4       0\n",
      "\n",
      "[48509 rows x 6 columns]\n"
     ]
    }
   ],
   "source": [
    "print(S_df)\n",
    "print(C_df)"
   ]
  },
  {
   "cell_type": "code",
   "execution_count": 5,
   "metadata": {},
   "outputs": [
    {
     "name": "stdout",
     "output_type": "stream",
     "text": [
      "Current Date of dataset:  48508    2020-04-10\n",
      "Name: date, dtype: object\n"
     ]
    }
   ],
   "source": [
    "print('Current Date of dataset: ', C_df.date[-1:])"
   ]
  },
  {
   "cell_type": "code",
   "execution_count": 6,
   "metadata": {},
   "outputs": [],
   "source": [
    "# To export"
   ]
  },
  {
   "cell_type": "code",
   "execution_count": 7,
   "metadata": {},
   "outputs": [],
   "source": [
    "# County\n",
    "export_csv = C_df.to_csv (r'Covid_County_fips.csv', index = None, header=True)"
   ]
  },
  {
   "cell_type": "code",
   "execution_count": 8,
   "metadata": {},
   "outputs": [],
   "source": [
    "# State\n",
    "export_csv = S_df.to_csv (r'Covid_State_fips.csv', index = None, header=True)"
   ]
  },
  {
   "cell_type": "code",
   "execution_count": null,
   "metadata": {},
   "outputs": [],
   "source": []
  }
 ],
 "metadata": {
  "kernelspec": {
   "display_name": "Python 3",
   "language": "python",
   "name": "python3"
  },
  "language_info": {
   "codemirror_mode": {
    "name": "ipython",
    "version": 3
   },
   "file_extension": ".py",
   "mimetype": "text/x-python",
   "name": "python",
   "nbconvert_exporter": "python",
   "pygments_lexer": "ipython3",
   "version": "3.7.6"
  }
 },
 "nbformat": 4,
 "nbformat_minor": 4
}
