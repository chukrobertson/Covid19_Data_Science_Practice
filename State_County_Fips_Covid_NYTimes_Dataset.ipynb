{
 "cells": [
  {
   "cell_type": "code",
   "execution_count": 39,
   "metadata": {},
   "outputs": [],
   "source": [
    "import pandas as pd"
   ]
  },
  {
   "cell_type": "code",
   "execution_count": 40,
   "metadata": {},
   "outputs": [
    {
     "name": "stdout",
     "output_type": "stream",
     "text": [
      "         date       state  fips  cases  deaths\n",
      "0  2020-01-21  Washington    53      1       0\n",
      "1  2020-01-22  Washington    53      1       0\n",
      "2  2020-01-23  Washington    53      1       0\n",
      "3  2020-01-24    Illinois    17      1       0\n",
      "4  2020-01-24  Washington    53      1       0\n"
     ]
    }
   ],
   "source": [
    "# State Data with fips state data for geolocation\n",
    "State_url = 'https://raw.githubusercontent.com/nytimes/covid-19-data/master/us-states.csv'\n",
    "S_df = pd.read_csv(State_url)\n",
    "print(S_df.head(5))"
   ]
  },
  {
   "cell_type": "code",
   "execution_count": 41,
   "metadata": {},
   "outputs": [
    {
     "name": "stdout",
     "output_type": "stream",
     "text": [
      "         date     county       state     fips  cases  deaths\n",
      "0  2020-01-21  Snohomish  Washington  53061.0      1       0\n",
      "1  2020-01-22  Snohomish  Washington  53061.0      1       0\n",
      "2  2020-01-23  Snohomish  Washington  53061.0      1       0\n",
      "3  2020-01-24       Cook    Illinois  17031.0      1       0\n",
      "4  2020-01-24  Snohomish  Washington  53061.0      1       0\n"
     ]
    }
   ],
   "source": [
    "# County Data with fips county data for geolocation\n",
    "County_url = 'https://raw.githubusercontent.com/nytimes/covid-19-data/master/us-counties.csv'\n",
    "C_df = pd.read_csv(County_url)\n",
    "print(C_df.head(5))"
   ]
  },
  {
   "cell_type": "code",
   "execution_count": 42,
   "metadata": {},
   "outputs": [
    {
     "name": "stdout",
     "output_type": "stream",
     "text": [
      "            date          state  fips  cases  deaths\n",
      "0     2020-01-21     Washington    53      1       0\n",
      "1     2020-01-22     Washington    53      1       0\n",
      "2     2020-01-23     Washington    53      1       0\n",
      "3     2020-01-24       Illinois    17      1       0\n",
      "4     2020-01-24     Washington    53      1       0\n",
      "...          ...            ...   ...    ...     ...\n",
      "1879  2020-04-05       Virginia    51   2637      52\n",
      "1880  2020-04-05     Washington    53   7984     344\n",
      "1881  2020-04-05  West Virginia    54    324       3\n",
      "1882  2020-04-05      Wisconsin    55   2267      73\n",
      "1883  2020-04-05        Wyoming    56    200       0\n",
      "\n",
      "[1884 rows x 5 columns]\n",
      "             date      county       state     fips  cases  deaths\n",
      "0      2020-01-21   Snohomish  Washington  53061.0      1       0\n",
      "1      2020-01-22   Snohomish  Washington  53061.0      1       0\n",
      "2      2020-01-23   Snohomish  Washington  53061.0      1       0\n",
      "3      2020-01-24        Cook    Illinois  17031.0      1       0\n",
      "4      2020-01-24   Snohomish  Washington  53061.0      1       0\n",
      "...           ...         ...         ...      ...    ...     ...\n",
      "35693  2020-04-05    Sublette     Wyoming  56035.0      1       0\n",
      "35694  2020-04-05  Sweetwater     Wyoming  56037.0      5       0\n",
      "35695  2020-04-05       Teton     Wyoming  56039.0     39       0\n",
      "35696  2020-04-05       Uinta     Wyoming  56041.0      2       0\n",
      "35697  2020-04-05    Washakie     Wyoming  56043.0      4       0\n",
      "\n",
      "[35698 rows x 6 columns]\n"
     ]
    }
   ],
   "source": [
    "print(S_df)\n",
    "print(C_df)"
   ]
  },
  {
   "cell_type": "code",
   "execution_count": 48,
   "metadata": {},
   "outputs": [
    {
     "name": "stdout",
     "output_type": "stream",
     "text": [
      "Current Date of dataset:  35697    2020-04-05\n",
      "Name: date, dtype: object\n"
     ]
    }
   ],
   "source": [
    "print('Current Date of dataset: ', C_df.date[-1:])"
   ]
  },
  {
   "cell_type": "code",
   "execution_count": 49,
   "metadata": {},
   "outputs": [],
   "source": [
    "# To export"
   ]
  },
  {
   "cell_type": "code",
   "execution_count": 50,
   "metadata": {},
   "outputs": [],
   "source": [
    "# County\n",
    "export_csv = C_df.to_csv (r'Covid_County_fips.csv', index = None, header=True)"
   ]
  },
  {
   "cell_type": "code",
   "execution_count": 51,
   "metadata": {},
   "outputs": [],
   "source": [
    "# State\n",
    "export_csv = S_df.to_csv (r'Covid_State_fips.csv', index = None, header=True)"
   ]
  },
  {
   "cell_type": "code",
   "execution_count": null,
   "metadata": {},
   "outputs": [],
   "source": []
  }
 ],
 "metadata": {
  "kernelspec": {
   "display_name": "Python 3",
   "language": "python",
   "name": "python3"
  },
  "language_info": {
   "codemirror_mode": {
    "name": "ipython",
    "version": 3
   },
   "file_extension": ".py",
   "mimetype": "text/x-python",
   "name": "python",
   "nbconvert_exporter": "python",
   "pygments_lexer": "ipython3",
   "version": "3.7.6"
  }
 },
 "nbformat": 4,
 "nbformat_minor": 4
}
